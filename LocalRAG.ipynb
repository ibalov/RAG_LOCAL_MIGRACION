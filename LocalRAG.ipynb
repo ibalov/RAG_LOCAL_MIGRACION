{
 "cells": [
  {
   "cell_type": "code",
   "execution_count": 36,
   "id": "f6f7a266-703d-4cd6-b564-7bdf97c7534a",
   "metadata": {},
   "outputs": [
    {
     "name": "stdout",
     "output_type": "stream",
     "text": [
      "File prueba.pdf exists.\n"
     ]
    }
   ],
   "source": [
    "import os\n",
    "import requests\n",
    "\n",
    "# Get PDF document path\n",
    "pdf_path = \"prueba.pdf\"\n",
    "\n",
    "# Download PDF\n",
    "if not os.path.exists(pdf_path):\n",
    "    print(\"[INFO] File doesn't exist, downloading...\")\n",
    "\n",
    "    # Enter the URL of the PDF\n",
    "    url = \"\"\n",
    "\n",
    "    # The local filename to save the downloaded file\n",
    "    filename = pdf_path\n",
    "\n",
    "    # Send a GET request to the URL\n",
    "    response = requests.get(url)\n",
    "\n",
    "    # Check if the request was successful\n",
    "    if response.status_code == 200:\n",
    "        # Open the file and save it\n",
    "        with open(filename, \"wb\") as file:\n",
    "            file.write(response.content) \n",
    "        print(f\"[INFO] The file has been download and saved as {filename}\")\n",
    "    else:\n",
    "        print(f\"[INFO] Failed to download the file. Status code: {reponse.status_code}\")\n",
    "\n",
    "else:\n",
    "    print(f\"File {pdf_path} exists.\")"
   ]
  },
  {
   "cell_type": "code",
   "execution_count": 37,
   "id": "3131f5cb-07e4-458d-b1f6-980e713caacb",
   "metadata": {},
   "outputs": [
    {
     "data": {
      "application/vnd.jupyter.widget-view+json": {
       "model_id": "37a6f44fdeaf4216a97ff0b2dff95588",
       "version_major": 2,
       "version_minor": 0
      },
      "text/plain": [
       "  0%|          | 0/52 [00:00<?, ?it/s]"
      ]
     },
     "metadata": {},
     "output_type": "display_data"
    },
    {
     "name": "stdout",
     "output_type": "stream",
     "text": [
      "[\n",
      "    {\n",
      "        \"module\": \"PEDIDOS\",\n",
      "        \"functions\": [\n",
      "            \"pAnadirControlDebajo\",\n",
      "            \"pAnadirControlDerecha\"\n",
      "        ],\n",
      "        \"page_number\": 0,\n",
      "        \"char_count\": 1508,\n",
      "        \"word_count\": 175,\n",
      "        \"token_count\": 285,\n",
      "        \"text\": \"<row> <CodigoNet> using AhoraAsistentes; using AhoraCore; using AhoraOCX; using AhoraPartes; using AhoraSistema; using static AhoraCore.VBA.Constants; using static AhoraCore.VBA.Conversion; using static AhoraCore.VBA.DateTime; using static AhoraCore.VBA.Strings; using static AhoraCore.VbMsgBoxResult; using static AhoraCore.VbMsgBoxStyle; using System; namespace AhoraScriptsPantalla { /** FORMULARIO PEDIDOS **/ public class AhoraCl_frmPedidos : AhoraOCX.AhoraBaseScript { const int ANCHO_CAPTION = 4; //67; const int ANCHO_FECHAS = 153; //2300; const int ALTO_BUSCADORES = 20; //300; const int DESPLAZA_V = 3; //50; const int DESPLAZA_H = 3; //50; const int ANCHO_BOTONERTEXTOSIMP = 227; //3400; const int ALTO_BOTONERATEXTOSIMP = 27; //550; public void pAnadirControlDebajo(Valor vsControl, Valor vsControlRef, Valor viAncho, Valor viAlto, Valor viDesplazaV, Valor viDesplazaH) { Valor lTop = ValorEmpty.Value; Valor lIzq = ValorEmpty.Value; try { lIzq = 0; if (!System.String.Equals(\\\"\\\" + (string)viDesplazaH, \\\"\\\", StringComparison.Ordinal)) { lIzq = (int)viDesplazaH; } lTop = viDesplazaV; if (\\\"\\\" + vsControl == \\\"\\\") { return; } if (\\\"\\\" + vsControlRef != \\\"\\\") { lIzq = gForm.Controls[(string)vsControlRef].Left + lIzq; lTop = gForm.Controls[(string)vsControlRef].Top + gForm.Controls[(string)vsControlRef].Height + viDesplazaV; } gForm.Controls[(string)vsControl].SetBounds(lIzq, lTop, viAncho, viAlto); } catch (Exception) { throw; } } public void pAnadirControlDerecha(Valor vsControl, Valor vsControlRef,\"\n",
      "    },\n",
      "    {\n",
      "        \"module\": \"PEDIDOS\",\n",
      "        \"functions\": [\n",
      "            \"Initialize\"\n",
      "        ],\n",
      "        \"page_number\": 1,\n",
      "        \"char_count\": 1446,\n",
      "        \"word_count\": 144,\n",
      "        \"token_count\": 275,\n",
      "        \"text\": \"Valor viAncho, Valor viAlto, Valor viDesplazaH, Valor viDesplazaV) { Valor lTop = ValorEmpty.Value; Valor lIzq = ValorEmpty.Value; try { lIzq = viDesplazaH; lTop = 0; if (!System.String.Equals(\\\"\\\" + (string)viDesplazaV, \\\"\\\", StringComparison.Ordinal)) { lTop = (int)viDesplazaV; } if (\\\"\\\" + vsControl == \\\"\\\") { return; } if (\\\"\\\" + vsControlRef != \\\"\\\") { lIzq = gForm.Controls[(string)vsControlRef].Left + gForm.Controls[(string)vsControlRef].Width + viDesplazaH; lTop = gForm.Controls[(string)vsControlRef].Top + lTop; } gForm.Controls[(string)vsControl].SetBounds(lIzq, lTop, viAncho, viAlto); } catch (Exception) { throw; } } public Valor fvLeerParametroEmpresa(string vsParam, string vsTabla) { Valor fvLeerParametroEmpresa = ValorEmpty.Value; try { fvLeerParametroEmpresa = gCn.DameValorCampo(CStr(\\\"SELECT \\\" + vsParam + \\\" FROM \\\" + vsTabla + \\\" WHERE IdEmpresa = \\\" + CStr(gCn.IdEmpresa))); } catch (Exception) { throw; } return fvLeerParametroEmpresa; } public override void Initialize() { try { ((ICntBotonera)gForm.FindControl(\\\"Botonera\\\")).ActivarScripts = true; ((ICntBotonera)gForm.FindControl(\\\"Botonera\\\")).BotonAdd(\\\"Últimas ventas\\\", \\\"pers_botUltVent\\\", \\\"\\\", (ETipo_Menu)0, true, gCn.Obj.Objetos[\\\"Articulos\\\"].Icono1); //V1.1 ((ICntBotonera)gForm.FindControl(\\\"Botonera\\\")).BotonAdd(\\\"Generar Partes\\\", \\\"pers_botGenerarPartes\\\", \\\"\\\", (ETipo_Menu)0, true, gCn.Obj.Objetos[\\\"Pedidos\\\"].Icono1); ((ICntBotonera)gForm.FindControl(\\\"Botonera\\\")).HabilitaBotones();\"\n",
      "    }\n",
      "]\n"
     ]
    }
   ],
   "source": [
    "import fitz  # Para leer PDFs\n",
    "import spacy  # Para tokenizar texto\n",
    "import re  # Para detectar funciones y módulos\n",
    "from tqdm.auto import tqdm\n",
    "\n",
    "# Inicializar spaCy para contar tokens\n",
    "nlp = spacy.blank(\"es\")\n",
    "\n",
    "def text_formatter(text: str) -> str:\n",
    "    \"\"\"Limpia y formatea el texto manteniendo la estructura del código.\"\"\"\n",
    "    # Eliminar comentarios y líneas innecesarias\n",
    "    #text = re.sub(r'//.*', '', text)  # Eliminar comentarios de una sola línea\n",
    "    #text = re.sub(r'/\\*.*?\\*/', '', text, flags=re.DOTALL)  # Eliminar comentarios multilinea\n",
    "\n",
    "    # Reemplazar saltos de línea innecesarios, pero mantener los que separan funciones o bloques\n",
    "    formatted_text = text.replace(\"\\n\", \" \").strip()  # Limpiar espacios extra\n",
    "    formatted_text = ' '.join(formatted_text.split())  # Reducir múltiples espacios a uno solo\n",
    "    return formatted_text\n",
    "\n",
    "def count_tokens_spacy(text: str) -> int:\n",
    "    \"\"\"Cuenta tokens con spaCy.\"\"\"\n",
    "    doc = nlp(text)\n",
    "    return len(doc)\n",
    "\n",
    "def extract_functions(text: str) -> list[str]:\n",
    "    \"\"\"Extrae nombres de funciones en C# usando expresiones regulares.\"\"\"\n",
    "    # Ajustamos el patrón para que también detecte funciones privadas, protegidas, etc.\n",
    "    pattern = r\"\\b(?:public|private|protected|internal)\\s+(?:override\\s+)?(?:void|int|string|bool|double|decimal|float|long|object)\\s+(\\w+)\\s*\\(\"\n",
    "    return re.findall(pattern, text)  # Lista de funciones encontradas\n",
    "\n",
    "def extract_module(text: str, current_module: str) -> str:\n",
    "    \"\"\"\n",
    "    Extrae el nombre del módulo basado en patrones de inicio de módulos.\n",
    "    Si no encuentra uno nuevo, devuelve el módulo actual.\n",
    "    \"\"\"\n",
    "    # Patrón 1: Buscamos en los comentarios /** FORMULARIO NOMBRE **/\n",
    "    match = re.search(r\"/\\*\\*\\s*FORMULARIO\\s+([\\w\\s]+?)\\s*\\*\\*/\", text, re.IGNORECASE)\n",
    "    if match:\n",
    "        return match.group(1).strip()\n",
    "\n",
    "    # Patrón 2: Buscamos en etiquetas XML como <row> o <codigoNet>\n",
    "    match = re.search(r\"<(row|codigoNet)>\\s*([\\w\\s]+?)\\s*</\\1>\", text, re.IGNORECASE)\n",
    "    if match:\n",
    "        return match.group(2).strip()\n",
    "\n",
    "    return current_module  # Si no se encuentra un nuevo módulo, mantener el actual\n",
    "\n",
    "def open_and_read_pdf(pdf_path: str) -> list[dict]:\n",
    "    doc = fitz.open(pdf_path)\n",
    "    pages_and_texts = []\n",
    "    current_module = \"Desconocido\"  # Valor por defecto antes de encontrar el primer módulo\n",
    "    \n",
    "    for page_number, page in tqdm(enumerate(doc), total=len(doc)):\n",
    "        text = page.get_text()\n",
    "        text = text_formatter(text)\n",
    "        \n",
    "        # Extraer el módulo si hay un nuevo marcador\n",
    "        current_module = extract_module(text, current_module)\n",
    "        \n",
    "        # Extraer funciones\n",
    "        functions = extract_functions(text)\n",
    "\n",
    "        if functions:  # Solo guardar si hay funciones en la página\n",
    "            pages_and_texts.append({\n",
    "                \"module\": current_module,\n",
    "                \"functions\": functions,\n",
    "                \"page_number\": page_number,  # Ajusta la numeración si es necesario\n",
    "                \"char_count\": len(text),\n",
    "                \"word_count\": len(text.split()),\n",
    "                \"token_count\": count_tokens_spacy(text),\n",
    "                \"text\": text  # Guarda el código completo si es necesario\n",
    "            })\n",
    "    \n",
    "    return pages_and_texts\n",
    "\n",
    "# 📌 **Ejecutar la extracción en el PDF**\n",
    "pdf_path = pdf_path\n",
    "results = open_and_read_pdf(pdf_path)\n",
    "\n",
    "# Mostrar los primeros resultados\n",
    "import json\n",
    "print(json.dumps(results[:2], indent=4, ensure_ascii=False))\n"
   ]
  },
  {
   "cell_type": "code",
   "execution_count": null,
   "id": "53ae609c-90cb-424a-be46-fbb6d49246c0",
   "metadata": {},
   "outputs": [],
   "source": []
  }
 ],
 "metadata": {
  "kernelspec": {
   "display_name": "Python 3 (ipykernel)",
   "language": "python",
   "name": "python3"
  },
  "language_info": {
   "codemirror_mode": {
    "name": "ipython",
    "version": 3
   },
   "file_extension": ".py",
   "mimetype": "text/x-python",
   "name": "python",
   "nbconvert_exporter": "python",
   "pygments_lexer": "ipython3",
   "version": "3.10.0rc2"
  }
 },
 "nbformat": 4,
 "nbformat_minor": 5
}
